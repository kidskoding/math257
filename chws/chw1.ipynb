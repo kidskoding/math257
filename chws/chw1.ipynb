{
 "cells": [
  {
   "cell_type": "code",
   "execution_count": 1,
   "id": "d0e4fc5d",
   "metadata": {},
   "outputs": [],
   "source": [
    "import numpy as np"
   ]
  },
  {
   "cell_type": "code",
   "execution_count": 2,
   "id": "24a7bdfe",
   "metadata": {},
   "outputs": [],
   "source": [
    "# 1.1\n",
    "def A_subset(A, n):\n",
    "    sum = 0\n",
    "    for x in A:\n",
    "        sum += x\n",
    "    return (sum, A[:n])"
   ]
  },
  {
   "cell_type": "code",
   "execution_count": null,
   "id": "aaf90519",
   "metadata": {},
   "outputs": [
    {
     "name": "stdout",
     "output_type": "stream",
     "text": [
      "(676, [43, 54, 91, 90])\n"
     ]
    }
   ],
   "source": [
    "# Expected Output: (676,[43, 54, 91, 90])\n",
    "\n",
    "n = 4\n",
    "A = [43,54,91,90,78,76,69,60,79,36]\n",
    "print(A_subset(A,n))"
   ]
  }
 ],
 "metadata": {
  "kernelspec": {
   "display_name": "Python 3",
   "language": "python",
   "name": "python3"
  },
  "language_info": {
   "codemirror_mode": {
    "name": "ipython",
    "version": 3
   },
   "file_extension": ".py",
   "mimetype": "text/x-python",
   "name": "python",
   "nbconvert_exporter": "python",
   "pygments_lexer": "ipython3",
   "version": "3.13.1"
  }
 },
 "nbformat": 4,
 "nbformat_minor": 5
}
