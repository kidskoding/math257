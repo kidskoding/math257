{
 "cells": [
  {
   "cell_type": "code",
   "id": "initial_id",
   "metadata": {
    "collapsed": true,
    "ExecuteTime": {
     "end_time": "2025-01-24T18:52:48.077361Z",
     "start_time": "2025-01-24T18:52:48.074843Z"
    }
   },
   "source": [
    "def A_subset(A, n):\n",
    "    sum = 0\n",
    "    for x in A:\n",
    "        sum += x\n",
    "    return sum, A[:n]"
   ],
   "outputs": [],
   "execution_count": 4
  },
  {
   "metadata": {
    "ExecuteTime": {
     "end_time": "2025-01-24T18:52:49.154703Z",
     "start_time": "2025-01-24T18:52:49.150264Z"
    }
   },
   "cell_type": "code",
   "source": [
    "n = 4\n",
    "A = [43,54,91,90,78,76,69,60,79,36]\n",
    "print(A_subset(A,n))"
   ],
   "id": "389b6e4880f461be",
   "outputs": [
    {
     "name": "stdout",
     "output_type": "stream",
     "text": [
      "(676, [43, 54, 91, 90])\n"
     ]
    }
   ],
   "execution_count": 5
  }
 ],
 "metadata": {
  "kernelspec": {
   "display_name": "Python 3",
   "language": "python",
   "name": "python3"
  },
  "language_info": {
   "codemirror_mode": {
    "name": "ipython",
    "version": 2
   },
   "file_extension": ".py",
   "mimetype": "text/x-python",
   "name": "python",
   "nbconvert_exporter": "python",
   "pygments_lexer": "ipython2",
   "version": "2.7.6"
  }
 },
 "nbformat": 4,
 "nbformat_minor": 5
}
