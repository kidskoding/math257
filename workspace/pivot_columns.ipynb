{
 "cells": [
  {
   "cell_type": "code",
   "id": "initial_id",
   "metadata": {
    "collapsed": true,
    "ExecuteTime": {
     "end_time": "2025-01-24T18:48:17.892732Z",
     "start_time": "2025-01-24T18:48:17.890611Z"
    }
   },
   "source": "import sympy as sp",
   "outputs": [],
   "execution_count": 4
  },
  {
   "metadata": {
    "ExecuteTime": {
     "end_time": "2025-01-24T18:48:18.649857Z",
     "start_time": "2025-01-24T18:48:18.646298Z"
    }
   },
   "cell_type": "code",
   "source": [
    "matrix = sp.Matrix([\n",
    "    [-1, 0, 0, 0],\n",
    "    [0, 1, 0, -1],\n",
    "    [1, 1, 0, -1],\n",
    "    [1, -1, 0, 1]\n",
    "])\n",
    "\n",
    "rref_matrix, pivot_columns = matrix.rref()\n",
    "\n",
    "print(pivot_columns)"
   ],
   "id": "250e81b1c7e39432",
   "outputs": [
    {
     "name": "stdout",
     "output_type": "stream",
     "text": [
      "(0, 1)\n"
     ]
    }
   ],
   "execution_count": 5
  }
 ],
 "metadata": {
  "kernelspec": {
   "display_name": "Python 3",
   "language": "python",
   "name": "python3"
  },
  "language_info": {
   "codemirror_mode": {
    "name": "ipython",
    "version": 2
   },
   "file_extension": ".py",
   "mimetype": "text/x-python",
   "name": "python",
   "nbconvert_exporter": "python",
   "pygments_lexer": "ipython2",
   "version": "2.7.6"
  }
 },
 "nbformat": 4,
 "nbformat_minor": 5
}
