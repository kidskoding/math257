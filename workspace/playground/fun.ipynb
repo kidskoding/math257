{
 "cells": [
  {
   "cell_type": "code",
   "id": "initial_id",
   "metadata": {
    "collapsed": true,
    "ExecuteTime": {
     "end_time": "2025-01-28T22:15:53.677343Z",
     "start_time": "2025-01-28T22:15:52.389454Z"
    }
   },
   "source": "import matplotlib.pyplot as plt",
   "outputs": [],
   "execution_count": 1
  },
  {
   "metadata": {
    "ExecuteTime": {
     "end_time": "2025-01-28T22:15:54.150115Z",
     "start_time": "2025-01-28T22:15:53.751297Z"
    }
   },
   "cell_type": "code",
   "source": [
    "# We will use the code snippet below to make a plot with the same aspect ratio for both axes\n",
    "ax = plt.gca()\n",
    "ax.set_aspect('equal')\n",
    "\n",
    "# To define the limits in the x and y-directions\n",
    "plt.xlim(0,6)\n",
    "plt.ylim(0,6)\n",
    "# Adding labels to the plot\n",
    "plt.xlabel('x');\n",
    "plt.ylabel('y');\n",
    "\n",
    "plt.plot(1,2,'o')\n",
    "\n",
    "# add the points (2, 3) and (5, 2) below\n",
    "plt.plot(2,3,'o')\n",
    "plt.plot(5,2,'o')"
   ],
   "id": "65a8480922621878",
   "outputs": [
    {
     "data": {
      "text/plain": [
       "[<matplotlib.lines.Line2D at 0x118a8aad0>]"
      ]
     },
     "execution_count": 2,
     "metadata": {},
     "output_type": "execute_result"
    },
    {
     "data": {
      "text/plain": [
       "<Figure size 640x480 with 1 Axes>"
      ],
      "image/png": "[encoded data removed]"
     },
     "metadata": {},
     "output_type": "display_data"
    }
   ],
   "execution_count": 2
  }
 ],
 "metadata": {
  "kernelspec": {
   "display_name": "Python 3",
   "language": "python",
   "name": "python3"
  },
  "language_info": {
   "codemirror_mode": {
    "name": "ipython",
    "version": 2
   },
   "file_extension": ".py",
   "mimetype": "text/x-python",
   "name": "python",
   "nbconvert_exporter": "python",
   "pygments_lexer": "ipython2",
   "version": "2.7.6"
  }
 },
 "nbformat": 4,
 "nbformat_minor": 5
}
