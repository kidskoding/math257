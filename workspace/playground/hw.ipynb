{
 "cells": [
  {
   "cell_type": "code",
   "id": "initial_id",
   "metadata": {
    "collapsed": true,
    "ExecuteTime": {
     "end_time": "2025-02-05T00:07:51.079232Z",
     "start_time": "2025-02-05T00:07:50.744136Z"
    }
   },
   "source": "import sympy as sp",
   "outputs": [],
   "execution_count": 3
  },
  {
   "metadata": {
    "ExecuteTime": {
     "end_time": "2025-02-05T02:08:45.947919Z",
     "start_time": "2025-02-05T02:08:45.921173Z"
    }
   },
   "cell_type": "code",
   "source": [
    "def is_linear_combination(vectors, target):\n",
    "    \"\"\"\n",
    "    Determines whether target is a linear combination of the given vectors.\n",
    "\n",
    "    Parameters:\n",
    "    vectors: list of sympy.Matrix - The set of vectors [A1, A2, A3, ...]\n",
    "    target: sympy.Matrix - The target vector B\n",
    "\n",
    "    Returns:\n",
    "    (bool, solution) - True if B is a linear combination, False otherwise.\n",
    "                        If True, the solution contains the scalars.\n",
    "    \"\"\"\n",
    "    # Create the coefficient matrix A by stacking vectors as columns\n",
    "    A = sp.Matrix.hstack(*vectors)\n",
    "\n",
    "    # Define variables for the scalars (c1, c2, ...)\n",
    "    num_vars = len(vectors)\n",
    "    scalars = sp.symbols(f'c1:{num_vars+1}')  # Generates c1, c2, ..., cn\n",
    "    scalar_matrix = sp.Matrix(num_vars, 1, scalars)\n",
    "\n",
    "    # Solve the system A * c = B\n",
    "    solution = sp.linsolve((A, target), *scalars)\n",
    "\n",
    "    # Check if there is a solution\n",
    "    if solution:\n",
    "        return True, solution\n",
    "    else:\n",
    "        return False, None\n",
    "\n",
    "# Example usage\n",
    "A1 = sp.Matrix([1, 2, 3])\n",
    "A2 = sp.Matrix([4, 5, 6])\n",
    "A3 = sp.Matrix([7, 8, 9])\n",
    "B = sp.Matrix([10, 11, 12])\n",
    "\n",
    "vectors = [A1, A2, A3]\n",
    "\n",
    "is_combination, solution = is_linear_combination(vectors, B)\n",
    "\n",
    "if is_combination:\n",
    "    print(\"B is a linear combination of A1, A2, and A3.\")\n",
    "    print(\"Solution (scalars c1, c2, c3):\")\n",
    "    sp.pprint(solution)\n",
    "else:\n",
    "    print(\"B is NOT a linear combination of A1, A2, and A3.\")\n",
    "\n",
    "A1 = sp.Matrix([\n",
    "    [-1],\n",
    "    [1],\n",
    "    [-2],\n",
    "    [1]\n",
    "])\n",
    "A2 = sp.Matrix([\n",
    "    [0],\n",
    "    [-1],\n",
    "    [0],\n",
    "    [0]\n",
    "])\n",
    "A3 = sp.Matrix([\n",
    "    [0],\n",
    "    [0],\n",
    "    [1],\n",
    "    [0]\n",
    "])\n",
    "B = sp.Matrix([10, 11, 12])\n",
    "\n",
    "vectors = [A1, A2, A3]\n",
    "\n",
    "is_combination, solution = is_linear_combination(vectors, B)\n",
    "\n",
    "if is_combination:\n",
    "    print(\"B is a linear combination of A1, A2, and A3.\")\n",
    "    print(\"Solution (scalars c1, c2, c3):\")\n",
    "    sp.pprint(solution)\n",
    "else:\n",
    "    print(\"B is NOT a linear combination of A1, A2, and A3.\")"
   ],
   "id": "a7e313c19e381510",
   "outputs": [
    {
     "ename": "ValueError",
     "evalue": "Invalid arguments",
     "output_type": "error",
     "traceback": [
      "\u001B[0;31m---------------------------------------------------------------------------\u001B[0m",
      "\u001B[0;31mValueError\u001B[0m                                Traceback (most recent call last)",
      "Cell \u001B[0;32mIn[61], line 28\u001B[0m\n\u001B[1;32m     25\u001B[0m A \u001B[38;5;241m=\u001B[39m sp\u001B[38;5;241m.\u001B[39mMatrix\u001B[38;5;241m.\u001B[39mhstack(A1, A2, A3)\n\u001B[1;32m     27\u001B[0m \u001B[38;5;66;03m# Solve the equation A * c = B for c = [c1, c2, c3]\u001B[39;00m\n\u001B[0;32m---> 28\u001B[0m sol \u001B[38;5;241m=\u001B[39m \u001B[43msp\u001B[49m\u001B[38;5;241;43m.\u001B[39;49m\u001B[43mlinsolve\u001B[49m\u001B[43m(\u001B[49m\u001B[43mA\u001B[49m\u001B[43m,\u001B[49m\u001B[43m \u001B[49m\u001B[43mB\u001B[49m\u001B[43m)\u001B[49m\n\u001B[1;32m     30\u001B[0m \u001B[38;5;66;03m# Display the solution (scalars c1, c2, c3)\u001B[39;00m\n\u001B[1;32m     31\u001B[0m \u001B[38;5;28mprint\u001B[39m(\u001B[38;5;124m\"\u001B[39m\u001B[38;5;124mScalars c1, c2, c3:\u001B[39m\u001B[38;5;124m\"\u001B[39m)\n",
      "File \u001B[0;32m~/UIUC/coursework/math257/workspace/playground/.venv/lib/python3.13/site-packages/sympy/solvers/solveset.py:3119\u001B[0m, in \u001B[0;36mlinsolve\u001B[0;34m(system, *symbols)\u001B[0m\n\u001B[1;32m   3116\u001B[0m     A, b \u001B[38;5;241m=\u001B[39m system[:, :\u001B[38;5;241m-\u001B[39m\u001B[38;5;241m1\u001B[39m], system[:, \u001B[38;5;241m-\u001B[39m\u001B[38;5;241m1\u001B[39m:]\n\u001B[1;32m   3118\u001B[0m \u001B[38;5;28;01mif\u001B[39;00m b \u001B[38;5;129;01mis\u001B[39;00m \u001B[38;5;28;01mNone\u001B[39;00m:\n\u001B[0;32m-> 3119\u001B[0m     \u001B[38;5;28;01mraise\u001B[39;00m \u001B[38;5;167;01mValueError\u001B[39;00m(\u001B[38;5;124m\"\u001B[39m\u001B[38;5;124mInvalid arguments\u001B[39m\u001B[38;5;124m\"\u001B[39m)\n\u001B[1;32m   3120\u001B[0m \u001B[38;5;28;01mif\u001B[39;00m sym_gen:\n\u001B[1;32m   3121\u001B[0m     symbols \u001B[38;5;241m=\u001B[39m [\u001B[38;5;28mnext\u001B[39m(symbols) \u001B[38;5;28;01mfor\u001B[39;00m i \u001B[38;5;129;01min\u001B[39;00m \u001B[38;5;28mrange\u001B[39m(A\u001B[38;5;241m.\u001B[39mcols)]\n",
      "\u001B[0;31mValueError\u001B[0m: Invalid arguments"
     ]
    }
   ],
   "execution_count": 61
  },
  {
   "metadata": {
    "ExecuteTime": {
     "end_time": "2025-02-05T02:47:07.417385Z",
     "start_time": "2025-02-05T02:47:07.407212Z"
    }
   },
   "cell_type": "code",
   "source": [
    "A = sp.Matrix([\n",
    "    [-2, 1, 0],\n",
    "    [0, 2, -2],\n",
    "    [1, 2, -1],\n",
    "    [-2, -2, 1],\n",
    "    [-1, 2, 0]\n",
    "])\n",
    "B = sp.Matrix([\n",
    "    [-2, -2, -2, -1],\n",
    "    [-1, 1, 0, 0],\n",
    "    [1, 2, 2, 2]\n",
    "])\n",
    "A * B"
   ],
   "id": "6887e26ebb74dbf",
   "outputs": [
    {
     "data": {
      "text/plain": [
       "Matrix([\n",
       "[ 3,  5,  4,  2],\n",
       "[-4, -2, -4, -4],\n",
       "[-5, -2, -4, -3],\n",
       "[ 7,  4,  6,  4],\n",
       "[ 0,  4,  2,  1]])"
      ],
      "text/latex": "$\\displaystyle \\left[\\begin{matrix}3 & 5 & 4 & 2\\\\-4 & -2 & -4 & -4\\\\-5 & -2 & -4 & -3\\\\7 & 4 & 6 & 4\\\\0 & 4 & 2 & 1\\end{matrix}\\right]$"
     },
     "execution_count": 66,
     "metadata": {},
     "output_type": "execute_result"
    }
   ],
   "execution_count": 66
  }
 ],
 "metadata": {
  "kernelspec": {
   "display_name": "Python 3",
   "language": "python",
   "name": "python3"
  },
  "language_info": {
   "codemirror_mode": {
    "name": "ipython",
    "version": 2
   },
   "file_extension": ".py",
   "mimetype": "text/x-python",
   "name": "python",
   "nbconvert_exporter": "python",
   "pygments_lexer": "ipython2",
   "version": "2.7.6"
  }
 },
 "nbformat": 4,
 "nbformat_minor": 5
}
